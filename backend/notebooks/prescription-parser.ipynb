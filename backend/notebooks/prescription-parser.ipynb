{
 "cells": [
  {
   "cell_type": "code",
   "execution_count": 302,
   "id": "0b3b201b-64b9-474c-b9a6-e8e452b7ea39",
   "metadata": {},
   "outputs": [],
   "source": [
    "import pytesseract\n",
    "import numpy as np\n",
    "import cv2\n",
    "from PIL import Image"
   ]
  },
  {
   "cell_type": "code",
   "execution_count": 303,
   "id": "23d39480-73dd-4609-9e5a-fb1b13a02d55",
   "metadata": {},
   "outputs": [],
   "source": [
    "from pdf2image import convert_from_path"
   ]
  },
  {
   "cell_type": "code",
   "execution_count": 324,
   "id": "a1ef30ad-b55f-4993-a14d-fe4116bb80b4",
   "metadata": {},
   "outputs": [],
   "source": [
    "pages = convert_from_path(\n",
    "    r'/Users/maheshbabu/Downloads/source-code/4_project_medical_data_extraction/backend/notebooks/docs/prescription/pre_1.pdf')"
   ]
  },
  {
   "cell_type": "code",
   "execution_count": 325,
   "id": "4b05efa8-6ee4-46cd-aa42-2a41f99a5b8d",
   "metadata": {},
   "outputs": [
    {
     "data": {
      "text/plain": [
       "[<PIL.PpmImagePlugin.PpmImageFile image mode=RGB size=1700x2200>]"
      ]
     },
     "execution_count": 325,
     "metadata": {},
     "output_type": "execute_result"
    }
   ],
   "source": [
    "pages"
   ]
  },
  {
   "cell_type": "code",
   "execution_count": 306,
   "id": "6f3fd803-de62-4a51-a96c-d2f8840c8862",
   "metadata": {},
   "outputs": [],
   "source": [
    "pages[0].show()"
   ]
  },
  {
   "cell_type": "code",
   "execution_count": 326,
   "id": "6bb29077-d16b-42cf-88c1-685ad98c6c3e",
   "metadata": {},
   "outputs": [],
   "source": [
    "text = pytesseract.image_to_string(pages[0],lang = 'eng')"
   ]
  },
  {
   "cell_type": "code",
   "execution_count": 327,
   "id": "e3be6a96-8a71-4f8b-8f45-da2d3b156ddd",
   "metadata": {},
   "outputs": [
    {
     "name": "stdout",
     "output_type": "stream",
     "text": [
      "Dr John Smith, M.D\n",
      "2 Non-Important Street,\n",
      "New York, Phone (000)-111-2222\n",
      "\n",
      "Name: Maria Sharapova Date: 5/11/2022\n",
      "\n",
      "Address: 9 tennis court, new Russia, DC\n",
      "\n",
      "—moemenmannenneneneunmnnnnennieesisiyoinnitniahadaaanniihsnseneneneeeernnttnnneenrenen:\n",
      "\n",
      "Prednisone 20 mg\n",
      "Lialda 2.4 gram\n",
      "\n",
      "3 days,\n",
      "\n",
      "or 1 month\n",
      "\n"
     ]
    }
   ],
   "source": [
    "print(text)"
   ]
  },
  {
   "cell_type": "code",
   "execution_count": 328,
   "id": "6ff402f4-4e80-42b1-901b-aa2ca6dd8294",
   "metadata": {},
   "outputs": [],
   "source": [
    "def preprocess_input_image(img):\n",
    "    gray = cv2.cvtColor(np.array(img),cv2.COLOR_BGR2GRAY)\n",
    "    resized = processed_image = cv2.resize(gray,None,fx = 1.5,fy = 1.5, interpolation = cv2.INTER_LINEAR)\n",
    "    processed_image = cv2.adaptiveThreshold(\n",
    "        resized,\n",
    "        255,\n",
    "        cv2.ADAPTIVE_THRESH_GAUSSIAN_C,\n",
    "        cv2.THRESH_BINARY,\n",
    "        61,\n",
    "        11       \n",
    "    )\n",
    "    return processed_image"
   ]
  },
  {
   "cell_type": "code",
   "execution_count": 329,
   "id": "f1f35557-95ab-418d-9732-9db5f34996f3",
   "metadata": {},
   "outputs": [],
   "source": [
    "img = preprocess_input_image(pages[0])"
   ]
  },
  {
   "cell_type": "code",
   "execution_count": 330,
   "id": "b1385d07-5e50-4d38-b8eb-495773a0cd44",
   "metadata": {},
   "outputs": [
    {
     "data": {
      "text/plain": [
       "array([[255, 255, 255, ..., 255, 255, 255],\n",
       "       [255, 255, 255, ..., 255, 255, 255],\n",
       "       [255, 255, 255, ..., 255, 255, 255],\n",
       "       ...,\n",
       "       [255, 255, 255, ..., 255, 255, 255],\n",
       "       [255, 255, 255, ..., 255, 255, 255],\n",
       "       [255, 255, 255, ..., 255, 255, 255]], dtype=uint8)"
      ]
     },
     "execution_count": 330,
     "metadata": {},
     "output_type": "execute_result"
    }
   ],
   "source": [
    "img"
   ]
  },
  {
   "cell_type": "code",
   "execution_count": 331,
   "id": "49e224aa-6224-4b5f-ba8b-ba06689464d9",
   "metadata": {},
   "outputs": [],
   "source": [
    "text = pytesseract.image_to_string(img,lang = 'eng')"
   ]
  },
  {
   "cell_type": "code",
   "execution_count": 332,
   "id": "78513853-21ec-4ef3-a456-50891debd1d8",
   "metadata": {},
   "outputs": [
    {
     "name": "stdout",
     "output_type": "stream",
     "text": [
      "Dr John Smith, M.D\n",
      "2 Non-Important Street,\n",
      "New York, Phone (000)-121-2222\n",
      "\n",
      "Name: Marta Sharapova Date: 2/11/2022\n",
      "\n",
      "Address: 9 tennis court, new Russia, DC\n",
      "\n",
      "K\n",
      "\n",
      "Prednisone 20 mg\n",
      "Lialda 2.4 gram\n",
      "\n",
      "Directions:\n",
      "Prednisone, Taper 5 mg every 3 days,\n",
      "\n",
      "Finish in 2.5 weeks -\n",
      "Lialda - take 2 pill everyday for 1 month\n",
      "\n",
      "Refill: 2 times\n",
      "\n"
     ]
    }
   ],
   "source": [
    "print(text)"
   ]
  },
  {
   "cell_type": "code",
   "execution_count": 333,
   "id": "ac9f2faa-84e1-48e2-86e0-4d2d4ee55ac8",
   "metadata": {},
   "outputs": [
    {
     "data": {
      "text/plain": [
       "'Dr John Smith, M.D\\n2 Non-Important Street,\\nNew York, Phone (000)-121-2222\\n\\nName: Marta Sharapova Date: 2/11/2022\\n\\nAddress: 9 tennis court, new Russia, DC\\n\\nK\\n\\nPrednisone 20 mg\\nLialda 2.4 gram\\n\\nDirections:\\nPrednisone, Taper 5 mg every 3 days,\\n\\nFinish in 2.5 weeks -\\nLialda - take 2 pill everyday for 1 month\\n\\nRefill: 2 times\\n'"
      ]
     },
     "execution_count": 333,
     "metadata": {},
     "output_type": "execute_result"
    }
   ],
   "source": [
    "text"
   ]
  },
  {
   "cell_type": "code",
   "execution_count": null,
   "id": "03fb5e9c-de98-46eb-b968-6428b942c54c",
   "metadata": {},
   "outputs": [],
   "source": []
  }
 ],
 "metadata": {
  "kernelspec": {
   "display_name": "Python 3 (ipykernel)",
   "language": "python",
   "name": "python3"
  },
  "language_info": {
   "codemirror_mode": {
    "name": "ipython",
    "version": 3
   },
   "file_extension": ".py",
   "mimetype": "text/x-python",
   "name": "python",
   "nbconvert_exporter": "python",
   "pygments_lexer": "ipython3",
   "version": "3.8.17"
  }
 },
 "nbformat": 4,
 "nbformat_minor": 5
}
