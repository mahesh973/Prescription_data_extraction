{
 "cells": [
  {
   "cell_type": "code",
   "execution_count": 275,
   "id": "0b3b201b-64b9-474c-b9a6-e8e452b7ea39",
   "metadata": {},
   "outputs": [],
   "source": [
    "import pytesseract\n",
    "import numpy as np\n",
    "import cv2\n",
    "from PIL import Image"
   ]
  },
  {
   "cell_type": "code",
   "execution_count": 276,
   "id": "23d39480-73dd-4609-9e5a-fb1b13a02d55",
   "metadata": {},
   "outputs": [],
   "source": [
    "from pdf2image import convert_from_path"
   ]
  },
  {
   "cell_type": "code",
   "execution_count": 292,
   "id": "a1ef30ad-b55f-4993-a14d-fe4116bb80b4",
   "metadata": {},
   "outputs": [],
   "source": [
    "pages = convert_from_path(\n",
    "    r'/Users/maheshbabu/Downloads/source-code/4_project_medical_data_extraction/backend/notebooks/docs/prescription/pre_2.pdf')"
   ]
  },
  {
   "cell_type": "code",
   "execution_count": 293,
   "id": "4b05efa8-6ee4-46cd-aa42-2a41f99a5b8d",
   "metadata": {},
   "outputs": [
    {
     "data": {
      "text/plain": [
       "[<PIL.PpmImagePlugin.PpmImageFile image mode=RGB size=1700x2200>]"
      ]
     },
     "execution_count": 293,
     "metadata": {},
     "output_type": "execute_result"
    }
   ],
   "source": [
    "pages"
   ]
  },
  {
   "cell_type": "code",
   "execution_count": 294,
   "id": "6f3fd803-de62-4a51-a96c-d2f8840c8862",
   "metadata": {},
   "outputs": [],
   "source": [
    "pages[0].show()"
   ]
  },
  {
   "cell_type": "code",
   "execution_count": 295,
   "id": "6bb29077-d16b-42cf-88c1-685ad98c6c3e",
   "metadata": {},
   "outputs": [],
   "source": [
    "text = pytesseract.image_to_string(pages[0],lang = 'eng')"
   ]
  },
  {
   "cell_type": "code",
   "execution_count": 296,
   "id": "e3be6a96-8a71-4f8b-8f45-da2d3b156ddd",
   "metadata": {},
   "outputs": [
    {
     "name": "stdout",
     "output_type": "stream",
     "text": [
      "Refill: 3 times\n",
      "\n",
      "\n"
     ]
    }
   ],
   "source": [
    "print(text)"
   ]
  },
  {
   "cell_type": "code",
   "execution_count": 297,
   "id": "6ff402f4-4e80-42b1-901b-aa2ca6dd8294",
   "metadata": {},
   "outputs": [],
   "source": [
    "def preprocess_input_image(img):\n",
    "    gray = cv2.cvtColor(np.array(img),cv2.COLOR_BGR2GRAY)\n",
    "    resized = processed_image = cv2.resize(gray,None,fx = 1.5,fy = 1.5, interpolation = cv2.INTER_LINEAR)\n",
    "    processed_image = cv2.adaptiveThreshold(\n",
    "        resized,\n",
    "        255,\n",
    "        cv2.ADAPTIVE_THRESH_GAUSSIAN_C,\n",
    "        cv2.THRESH_BINARY,\n",
    "        61,\n",
    "        11       \n",
    "    )\n",
    "    return processed_image"
   ]
  },
  {
   "cell_type": "code",
   "execution_count": 298,
   "id": "f1f35557-95ab-418d-9732-9db5f34996f3",
   "metadata": {},
   "outputs": [],
   "source": [
    "img = preprocess_input_image(pages[0])"
   ]
  },
  {
   "cell_type": "code",
   "execution_count": 299,
   "id": "b1385d07-5e50-4d38-b8eb-495773a0cd44",
   "metadata": {},
   "outputs": [
    {
     "data": {
      "text/plain": [
       "array([[255, 255, 255, ..., 255, 255, 255],\n",
       "       [255, 255, 255, ..., 255, 255, 255],\n",
       "       [255, 255, 255, ..., 255, 255, 255],\n",
       "       ...,\n",
       "       [255, 255, 255, ..., 255, 255, 255],\n",
       "       [255, 255, 255, ..., 255, 255, 255],\n",
       "       [255, 255, 255, ..., 255, 255, 255]], dtype=uint8)"
      ]
     },
     "execution_count": 299,
     "metadata": {},
     "output_type": "execute_result"
    }
   ],
   "source": [
    "img"
   ]
  },
  {
   "cell_type": "code",
   "execution_count": 300,
   "id": "49e224aa-6224-4b5f-ba8b-ba06689464d9",
   "metadata": {},
   "outputs": [],
   "source": [
    "text = pytesseract.image_to_string(img,lang = 'eng')"
   ]
  },
  {
   "cell_type": "code",
   "execution_count": 301,
   "id": "78513853-21ec-4ef3-a456-50891debd1d8",
   "metadata": {},
   "outputs": [
    {
     "name": "stdout",
     "output_type": "stream",
     "text": [
      "Dr John Smith, M.D\n",
      "\n",
      "2 Non-Important street,\n",
      "New York, Phone (900)-a23- ~2222\n",
      "\n",
      "Name:  Virat Kohli Date: 2/05/2022\n",
      "\n",
      "Address: 2 cricket blvd, New Delhi\n",
      "\n",
      "| Omeprazole 40 mg\n",
      "\n",
      "Directions: Use two tablets daily for three months\n",
      "\n",
      "Refill: 3 times\n",
      "\n"
     ]
    }
   ],
   "source": [
    "print(text)"
   ]
  }
 ],
 "metadata": {
  "kernelspec": {
   "display_name": "Python 3 (ipykernel)",
   "language": "python",
   "name": "python3"
  },
  "language_info": {
   "codemirror_mode": {
    "name": "ipython",
    "version": 3
   },
   "file_extension": ".py",
   "mimetype": "text/x-python",
   "name": "python",
   "nbconvert_exporter": "python",
   "pygments_lexer": "ipython3",
   "version": "3.8.17"
  }
 },
 "nbformat": 4,
 "nbformat_minor": 5
}
